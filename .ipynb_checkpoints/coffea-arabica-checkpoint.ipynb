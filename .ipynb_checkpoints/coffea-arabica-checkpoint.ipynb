{
 "cells": [
  {
   "cell_type": "code",
   "execution_count": 53,
   "id": "6b73c112-cda4-444b-a375-eb3c31bb66f6",
   "metadata": {},
   "outputs": [],
   "source": [
    "import numpy as np\n",
    "import pandas as pd\n",
    "import matplotlib.pyplot as plt\n",
    "import datetime\n",
    "\n",
    "data = {\n",
    "    \"DATE\": [],\n",
    "    \"HIGHEST POINT\": [],\n",
    "    \"LARGEST LEAF\": []\n",
    "}\n",
    "def add_data_point(highest_point, largest_leaf):\n",
    "    data[\"DATE\"].append(datetime.datetime.now())\n",
    "    data[\"HIGHEST POINT\"].append(highest_point)\n",
    "    data[\"LARGEST LEAF\"].append(largest_leaf)\n",
    "    df = pd.DataFrame(data)\n",
    "    df.to_csv(\"data.csv\", mode=\"a\", header=False, index=False)"
   ]
  },
  {
   "cell_type": "code",
   "execution_count": 54,
   "id": "5412e58a-8bd7-49ad-9be9-ca0d6be2ae49",
   "metadata": {},
   "outputs": [],
   "source": [
    "add_data_point(520, 210)"
   ]
  },
  {
   "cell_type": "code",
   "execution_count": null,
   "id": "b8e3e134-c23d-450e-a8e6-86c11e38def6",
   "metadata": {},
   "outputs": [],
   "source": []
  },
  {
   "cell_type": "code",
   "execution_count": null,
   "id": "cfe6f16c-8590-4e6b-83ad-c0482824365f",
   "metadata": {},
   "outputs": [],
   "source": []
  },
  {
   "cell_type": "code",
   "execution_count": null,
   "id": "49e5aa4f-e55a-4fba-bef3-1980776bb49a",
   "metadata": {},
   "outputs": [],
   "source": []
  }
 ],
 "metadata": {
  "kernelspec": {
   "display_name": "Python 3 (ipykernel)",
   "language": "python",
   "name": "python3"
  },
  "language_info": {
   "codemirror_mode": {
    "name": "ipython",
    "version": 3
   },
   "file_extension": ".py",
   "mimetype": "text/x-python",
   "name": "python",
   "nbconvert_exporter": "python",
   "pygments_lexer": "ipython3",
   "version": "3.11.6"
  }
 },
 "nbformat": 4,
 "nbformat_minor": 5
}
